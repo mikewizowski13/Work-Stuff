{
 "cells": [
  {
   "cell_type": "code",
   "execution_count": 1,
   "metadata": {},
   "outputs": [],
   "source": [
    "import pandas as pd"
   ]
  },
  {
   "cell_type": "code",
   "execution_count": 8,
   "metadata": {},
   "outputs": [],
   "source": [
    "df = pd.read_csv('food-inspections_2.csv')"
   ]
  },
  {
   "cell_type": "code",
   "execution_count": 9,
   "metadata": {},
   "outputs": [
    {
     "data": {
      "text/html": [
       "<div>\n",
       "<style scoped>\n",
       "    .dataframe tbody tr th:only-of-type {\n",
       "        vertical-align: middle;\n",
       "    }\n",
       "\n",
       "    .dataframe tbody tr th {\n",
       "        vertical-align: top;\n",
       "    }\n",
       "\n",
       "    .dataframe thead th {\n",
       "        text-align: right;\n",
       "    }\n",
       "</style>\n",
       "<table border=\"1\" class=\"dataframe\">\n",
       "  <thead>\n",
       "    <tr style=\"text-align: right;\">\n",
       "      <th></th>\n",
       "      <th>Inspection ID</th>\n",
       "      <th>DBA Name</th>\n",
       "      <th>AKA Name</th>\n",
       "      <th>License #</th>\n",
       "      <th>Facility Type</th>\n",
       "      <th>Risk</th>\n",
       "      <th>Address</th>\n",
       "      <th>City</th>\n",
       "      <th>State</th>\n",
       "      <th>Zip</th>\n",
       "      <th>Inspection Date</th>\n",
       "      <th>Inspection Type</th>\n",
       "      <th>Results</th>\n",
       "    </tr>\n",
       "  </thead>\n",
       "  <tbody>\n",
       "    <tr>\n",
       "      <th>0</th>\n",
       "      <td>2280098</td>\n",
       "      <td>DUNKIN DONUTS/BASKIN ROBBINS</td>\n",
       "      <td>DUNKIN DONUTS/BASKIN ROBBINS</td>\n",
       "      <td>2575074</td>\n",
       "      <td>Restaurant</td>\n",
       "      <td>Risk 2 (Medium)</td>\n",
       "      <td>5130 N BROADWAY</td>\n",
       "      <td>CHICAGO</td>\n",
       "      <td>IL</td>\n",
       "      <td>60640.0</td>\n",
       "      <td>2019-03-26T00:00:00</td>\n",
       "      <td>Complaint Re-Inspection</td>\n",
       "      <td>Pass</td>\n",
       "    </tr>\n",
       "    <tr>\n",
       "      <th>1</th>\n",
       "      <td>2280096</td>\n",
       "      <td>WONDERBURGER</td>\n",
       "      <td>WONDERBURGER</td>\n",
       "      <td>2626727</td>\n",
       "      <td>Restaurant</td>\n",
       "      <td>Risk 1 (High)</td>\n",
       "      <td>3323 W 111TH ST</td>\n",
       "      <td>CHICAGO</td>\n",
       "      <td>IL</td>\n",
       "      <td>60655.0</td>\n",
       "      <td>2019-03-26T00:00:00</td>\n",
       "      <td>License Re-Inspection</td>\n",
       "      <td>Pass</td>\n",
       "    </tr>\n",
       "    <tr>\n",
       "      <th>2</th>\n",
       "      <td>2280092</td>\n",
       "      <td>WONDERBURGER</td>\n",
       "      <td>WONDERBURGER</td>\n",
       "      <td>2626726</td>\n",
       "      <td>Restaurant</td>\n",
       "      <td>Risk 1 (High)</td>\n",
       "      <td>3323 W 111TH ST</td>\n",
       "      <td>CHICAGO</td>\n",
       "      <td>IL</td>\n",
       "      <td>60655.0</td>\n",
       "      <td>2019-03-26T00:00:00</td>\n",
       "      <td>License Re-Inspection</td>\n",
       "      <td>Pass</td>\n",
       "    </tr>\n",
       "    <tr>\n",
       "      <th>3</th>\n",
       "      <td>2280082</td>\n",
       "      <td>BEERHEAD BAR &amp; EATERY</td>\n",
       "      <td>BEERHEAD BAR &amp; EATERY</td>\n",
       "      <td>2600994</td>\n",
       "      <td>Restaurant</td>\n",
       "      <td>Risk 1 (High)</td>\n",
       "      <td>3519 N CLARK ST</td>\n",
       "      <td>CHICAGO</td>\n",
       "      <td>IL</td>\n",
       "      <td>60657.0</td>\n",
       "      <td>2019-03-26T00:00:00</td>\n",
       "      <td>License</td>\n",
       "      <td>Pass</td>\n",
       "    </tr>\n",
       "    <tr>\n",
       "      <th>4</th>\n",
       "      <td>2280080</td>\n",
       "      <td>PALETERIA Y NEVERIA LA MEXICANA YOGURT AND CHURRO</td>\n",
       "      <td>PALETERIA Y NEVERIA LA MICHOACANA</td>\n",
       "      <td>2125277</td>\n",
       "      <td>Restaurant</td>\n",
       "      <td>Risk 1 (High)</td>\n",
       "      <td>4171 S ARCHER AVE</td>\n",
       "      <td>CHICAGO</td>\n",
       "      <td>IL</td>\n",
       "      <td>60632.0</td>\n",
       "      <td>2019-03-26T00:00:00</td>\n",
       "      <td>Canvass</td>\n",
       "      <td>Pass w/ Conditions</td>\n",
       "    </tr>\n",
       "  </tbody>\n",
       "</table>\n",
       "</div>"
      ],
      "text/plain": [
       "   Inspection ID                                           DBA Name  \\\n",
       "0        2280098                       DUNKIN DONUTS/BASKIN ROBBINS   \n",
       "1        2280096                                       WONDERBURGER   \n",
       "2        2280092                                       WONDERBURGER   \n",
       "3        2280082                              BEERHEAD BAR & EATERY   \n",
       "4        2280080  PALETERIA Y NEVERIA LA MEXICANA YOGURT AND CHURRO   \n",
       "\n",
       "                            AKA Name  License # Facility Type  \\\n",
       "0       DUNKIN DONUTS/BASKIN ROBBINS    2575074    Restaurant   \n",
       "1                       WONDERBURGER    2626727    Restaurant   \n",
       "2                       WONDERBURGER    2626726    Restaurant   \n",
       "3              BEERHEAD BAR & EATERY    2600994    Restaurant   \n",
       "4  PALETERIA Y NEVERIA LA MICHOACANA    2125277    Restaurant   \n",
       "\n",
       "              Risk             Address     City State      Zip  \\\n",
       "0  Risk 2 (Medium)    5130 N BROADWAY   CHICAGO    IL  60640.0   \n",
       "1    Risk 1 (High)    3323 W 111TH ST   CHICAGO    IL  60655.0   \n",
       "2    Risk 1 (High)    3323 W 111TH ST   CHICAGO    IL  60655.0   \n",
       "3    Risk 1 (High)    3519 N CLARK ST   CHICAGO    IL  60657.0   \n",
       "4    Risk 1 (High)  4171 S ARCHER AVE   CHICAGO    IL  60632.0   \n",
       "\n",
       "       Inspection Date          Inspection Type             Results  \n",
       "0  2019-03-26T00:00:00  Complaint Re-Inspection                Pass  \n",
       "1  2019-03-26T00:00:00    License Re-Inspection                Pass  \n",
       "2  2019-03-26T00:00:00    License Re-Inspection                Pass  \n",
       "3  2019-03-26T00:00:00                  License                Pass  \n",
       "4  2019-03-26T00:00:00                  Canvass  Pass w/ Conditions  "
      ]
     },
     "execution_count": 9,
     "metadata": {},
     "output_type": "execute_result"
    }
   ],
   "source": [
    "df.head()"
   ]
  },
  {
   "cell_type": "code",
   "execution_count": 14,
   "metadata": {},
   "outputs": [],
   "source": [
    "Results_df = df['Results'].value_counts()"
   ]
  },
  {
   "cell_type": "code",
   "execution_count": 15,
   "metadata": {},
   "outputs": [
    {
     "data": {
      "text/plain": [
       "Pass w/ Conditions    414\n",
       "Pass                  236\n",
       "Fail                  207\n",
       "Out of Business        54\n",
       "Not Ready              46\n",
       "No Entry               43\n",
       "Name: Results, dtype: int64"
      ]
     },
     "execution_count": 15,
     "metadata": {},
     "output_type": "execute_result"
    }
   ],
   "source": [
    "Results_df"
   ]
  },
  {
   "cell_type": "code",
   "execution_count": 24,
   "metadata": {},
   "outputs": [
    {
     "data": {
      "text/plain": [
       "<matplotlib.axes._subplots.AxesSubplot at 0x10fd448d0>"
      ]
     },
     "execution_count": 24,
     "metadata": {},
     "output_type": "execute_result"
    },
    {
     "data": {
      "image/png": "[encoded data removed]",
      "text/plain": [
       "<Figure size 432x288 with 1 Axes>"
      ]
     },
     "metadata": {},
     "output_type": "display_data"
    }
   ],
   "source": [
    "Results_df.plot.bar(y='Results')"
   ]
  },
  {
   "cell_type": "code",
   "execution_count": 25,
   "metadata": {},
   "outputs": [
    {
     "data": {
      "text/plain": [
       "<matplotlib.axes._subplots.AxesSubplot at 0x10fe738d0>"
      ]
     },
     "execution_count": 25,
     "metadata": {},
     "output_type": "execute_result"
    },
    {
     "data": {
      "image/png": "[encoded data removed]",
      "text/plain": [
       "<Figure size 432x288 with 1 Axes>"
      ]
     },
     "metadata": {},
     "output_type": "display_data"
    }
   ],
   "source": [
    "Results_df.plot.bar(y='Results', rot = 0)"
   ]
  },
  {
   "cell_type": "code",
   "execution_count": 33,
   "metadata": {},
   "outputs": [],
   "source": [
    "df['Sub-String'] = df['Address'].str.contains('CLARK')"
   ]
  },
  {
   "cell_type": "code",
   "execution_count": 34,
   "metadata": {},
   "outputs": [
    {
     "data": {
      "text/html": [
       "<div>\n",
       "<style scoped>\n",
       "    .dataframe tbody tr th:only-of-type {\n",
       "        vertical-align: middle;\n",
       "    }\n",
       "\n",
       "    .dataframe tbody tr th {\n",
       "        vertical-align: top;\n",
       "    }\n",
       "\n",
       "    .dataframe thead th {\n",
       "        text-align: right;\n",
       "    }\n",
       "</style>\n",
       "<table border=\"1\" class=\"dataframe\">\n",
       "  <thead>\n",
       "    <tr style=\"text-align: right;\">\n",
       "      <th></th>\n",
       "      <th>Inspection ID</th>\n",
       "      <th>DBA Name</th>\n",
       "      <th>AKA Name</th>\n",
       "      <th>License #</th>\n",
       "      <th>Facility Type</th>\n",
       "      <th>Risk</th>\n",
       "      <th>Address</th>\n",
       "      <th>City</th>\n",
       "      <th>State</th>\n",
       "      <th>Zip</th>\n",
       "      <th>Inspection Date</th>\n",
       "      <th>Inspection Type</th>\n",
       "      <th>Results</th>\n",
       "      <th>Sub-String</th>\n",
       "    </tr>\n",
       "  </thead>\n",
       "  <tbody>\n",
       "    <tr>\n",
       "      <th>0</th>\n",
       "      <td>2280098</td>\n",
       "      <td>DUNKIN DONUTS/BASKIN ROBBINS</td>\n",
       "      <td>DUNKIN DONUTS/BASKIN ROBBINS</td>\n",
       "      <td>2575074</td>\n",
       "      <td>Restaurant</td>\n",
       "      <td>Risk 2 (Medium)</td>\n",
       "      <td>5130 N BROADWAY</td>\n",
       "      <td>CHICAGO</td>\n",
       "      <td>IL</td>\n",
       "      <td>60640.0</td>\n",
       "      <td>2019-03-26T00:00:00</td>\n",
       "      <td>Complaint Re-Inspection</td>\n",
       "      <td>Pass</td>\n",
       "      <td>False</td>\n",
       "    </tr>\n",
       "    <tr>\n",
       "      <th>1</th>\n",
       "      <td>2280096</td>\n",
       "      <td>WONDERBURGER</td>\n",
       "      <td>WONDERBURGER</td>\n",
       "      <td>2626727</td>\n",
       "      <td>Restaurant</td>\n",
       "      <td>Risk 1 (High)</td>\n",
       "      <td>3323 W 111TH ST</td>\n",
       "      <td>CHICAGO</td>\n",
       "      <td>IL</td>\n",
       "      <td>60655.0</td>\n",
       "      <td>2019-03-26T00:00:00</td>\n",
       "      <td>License Re-Inspection</td>\n",
       "      <td>Pass</td>\n",
       "      <td>False</td>\n",
       "    </tr>\n",
       "    <tr>\n",
       "      <th>2</th>\n",
       "      <td>2280092</td>\n",
       "      <td>WONDERBURGER</td>\n",
       "      <td>WONDERBURGER</td>\n",
       "      <td>2626726</td>\n",
       "      <td>Restaurant</td>\n",
       "      <td>Risk 1 (High)</td>\n",
       "      <td>3323 W 111TH ST</td>\n",
       "      <td>CHICAGO</td>\n",
       "      <td>IL</td>\n",
       "      <td>60655.0</td>\n",
       "      <td>2019-03-26T00:00:00</td>\n",
       "      <td>License Re-Inspection</td>\n",
       "      <td>Pass</td>\n",
       "      <td>False</td>\n",
       "    </tr>\n",
       "    <tr>\n",
       "      <th>3</th>\n",
       "      <td>2280082</td>\n",
       "      <td>BEERHEAD BAR &amp; EATERY</td>\n",
       "      <td>BEERHEAD BAR &amp; EATERY</td>\n",
       "      <td>2600994</td>\n",
       "      <td>Restaurant</td>\n",
       "      <td>Risk 1 (High)</td>\n",
       "      <td>3519 N CLARK ST</td>\n",
       "      <td>CHICAGO</td>\n",
       "      <td>IL</td>\n",
       "      <td>60657.0</td>\n",
       "      <td>2019-03-26T00:00:00</td>\n",
       "      <td>License</td>\n",
       "      <td>Pass</td>\n",
       "      <td>True</td>\n",
       "    </tr>\n",
       "    <tr>\n",
       "      <th>4</th>\n",
       "      <td>2280080</td>\n",
       "      <td>PALETERIA Y NEVERIA LA MEXICANA YOGURT AND CHURRO</td>\n",
       "      <td>PALETERIA Y NEVERIA LA MICHOACANA</td>\n",
       "      <td>2125277</td>\n",
       "      <td>Restaurant</td>\n",
       "      <td>Risk 1 (High)</td>\n",
       "      <td>4171 S ARCHER AVE</td>\n",
       "      <td>CHICAGO</td>\n",
       "      <td>IL</td>\n",
       "      <td>60632.0</td>\n",
       "      <td>2019-03-26T00:00:00</td>\n",
       "      <td>Canvass</td>\n",
       "      <td>Pass w/ Conditions</td>\n",
       "      <td>False</td>\n",
       "    </tr>\n",
       "  </tbody>\n",
       "</table>\n",
       "</div>"
      ],
      "text/plain": [
       "   Inspection ID                                           DBA Name  \\\n",
       "0        2280098                       DUNKIN DONUTS/BASKIN ROBBINS   \n",
       "1        2280096                                       WONDERBURGER   \n",
       "2        2280092                                       WONDERBURGER   \n",
       "3        2280082                              BEERHEAD BAR & EATERY   \n",
       "4        2280080  PALETERIA Y NEVERIA LA MEXICANA YOGURT AND CHURRO   \n",
       "\n",
       "                            AKA Name  License # Facility Type  \\\n",
       "0       DUNKIN DONUTS/BASKIN ROBBINS    2575074    Restaurant   \n",
       "1                       WONDERBURGER    2626727    Restaurant   \n",
       "2                       WONDERBURGER    2626726    Restaurant   \n",
       "3              BEERHEAD BAR & EATERY    2600994    Restaurant   \n",
       "4  PALETERIA Y NEVERIA LA MICHOACANA    2125277    Restaurant   \n",
       "\n",
       "              Risk             Address     City State      Zip  \\\n",
       "0  Risk 2 (Medium)    5130 N BROADWAY   CHICAGO    IL  60640.0   \n",
       "1    Risk 1 (High)    3323 W 111TH ST   CHICAGO    IL  60655.0   \n",
       "2    Risk 1 (High)    3323 W 111TH ST   CHICAGO    IL  60655.0   \n",
       "3    Risk 1 (High)    3519 N CLARK ST   CHICAGO    IL  60657.0   \n",
       "4    Risk 1 (High)  4171 S ARCHER AVE   CHICAGO    IL  60632.0   \n",
       "\n",
       "       Inspection Date          Inspection Type             Results  \\\n",
       "0  2019-03-26T00:00:00  Complaint Re-Inspection                Pass   \n",
       "1  2019-03-26T00:00:00    License Re-Inspection                Pass   \n",
       "2  2019-03-26T00:00:00    License Re-Inspection                Pass   \n",
       "3  2019-03-26T00:00:00                  License                Pass   \n",
       "4  2019-03-26T00:00:00                  Canvass  Pass w/ Conditions   \n",
       "\n",
       "   Sub-String  \n",
       "0       False  \n",
       "1       False  \n",
       "2       False  \n",
       "3        True  \n",
       "4       False  "
      ]
     },
     "execution_count": 34,
     "metadata": {},
     "output_type": "execute_result"
    }
   ],
   "source": [
    "df.head()"
   ]
  },
  {
   "cell_type": "code",
   "execution_count": 35,
   "metadata": {},
   "outputs": [
    {
     "data": {
      "text/plain": [
       "pandas.core.frame.DataFrame"
      ]
     },
     "execution_count": 35,
     "metadata": {},
     "output_type": "execute_result"
    }
   ],
   "source": [
    "type(df)"
   ]
  },
  {
   "cell_type": "code",
   "execution_count": 39,
   "metadata": {},
   "outputs": [
    {
     "data": {
      "text/plain": [
       "Inspection ID        int64\n",
       "DBA Name            object\n",
       "AKA Name            object\n",
       "License #            int64\n",
       "Facility Type       object\n",
       "Risk                object\n",
       "Address             object\n",
       "City                object\n",
       "State               object\n",
       "Zip                float64\n",
       "Inspection Date     object\n",
       "Inspection Type     object\n",
       "Results             object\n",
       "Sub-String            bool\n",
       "dtype: object"
      ]
     },
     "execution_count": 39,
     "metadata": {},
     "output_type": "execute_result"
    }
   ],
   "source": [
    "df.dtypes"
   ]
  },
  {
   "cell_type": "code",
   "execution_count": null,
   "metadata": {},
   "outputs": [],
   "source": []
  }
 ],
 "metadata": {
  "kernelspec": {
   "display_name": "Python 3",
   "language": "python",
   "name": "python3"
  },
  "language_info": {
   "codemirror_mode": {
    "name": "ipython",
    "version": 3
   },
   "file_extension": ".py",
   "mimetype": "text/x-python",
   "name": "python",
   "nbconvert_exporter": "python",
   "pygments_lexer": "ipython3",
   "version": "3.6.5"
  }
 },
 "nbformat": 4,
 "nbformat_minor": 2
}
